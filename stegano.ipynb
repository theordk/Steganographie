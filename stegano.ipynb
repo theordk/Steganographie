{
  "nbformat": 4,
  "nbformat_minor": 5,
  "metadata": {
    "kernelspec": {
      "display_name": "Python 3",
      "language": "python",
      "name": "python3"
    },
    "language_info": {
      "codemirror_mode": {
        "name": "ipython",
        "version": 3
      },
      "file_extension": ".py",
      "mimetype": "text/x-python",
      "name": "python",
      "nbconvert_exporter": "python",
      "pygments_lexer": "ipython3",
      "version": "3.8.8"
    },
    "colab": {
      "name": "stegano.ipynb",
      "provenance": [],
      "collapsed_sections": []
    }
  },
  "cells": [
    {
      "cell_type": "code",
      "metadata": {
        "id": "28064b6f",
        "outputId": "c80b4974-d29f-4267-f62e-b55a872374ed"
      },
      "source": [
        "import sys\n",
        "from IPython.display import Image\n",
        "from PIL import Image\n",
        "\n",
        "# Importer les 2 images\n",
        "img1 = Image.open(\"img1.png\")\n",
        "img1 = img1.convert('RGB')\n",
        "img2 = Image.open(\"img2.png\")\n",
        "\n",
        "# Définir taille des images\n",
        "WIDTH, HEIGHT = img1.size;\n",
        "#print(WIDTH)\n",
        "#print(HEIGHT)\n",
        "\n",
        "# Image finale\n",
        "img3 = Image.new(mode=\"RGB\", size=(WIDTH, HEIGHT))\n",
        "\n",
        "for x in range(WIDTH):\n",
        "    for y in range(HEIGHT):\n",
        "        \n",
        "        pix_img1 = img1.getpixel((x,y))\n",
        "        # mise à zéro des 4 bits de droite R,V,B pour l'image 1 \n",
        "        pix_r1 = pix_img1[0]&240 \n",
        "        pix_v1 = pix_img1[1]&240\n",
        "        pix_b1 = pix_img1[2]&240\n",
        "        \n",
        "        pix_img2 = img2.getpixel((x,y))\n",
        "        # décalage de 4 bits vers la droite R,V,B pour l'image 2\n",
        "        pix_r2 = pix_img2[0]>>4 \n",
        "        pix_v2 = pix_img2[1]>>4\n",
        "        pix_b2 = pix_img2[2]>>4\n",
        "        \n",
        "        # insertion des pixels R,V,B de l'image 2 dans l'image 1\n",
        "        pix_r = pix_r1|pix_r2\n",
        "        pix_v = pix_v1|pix_v2\n",
        "        pix_b = pix_b1|pix_b2\n",
        "        \n",
        "        # création image 3 \n",
        "        img3.putpixel((x,y),(pix_r,pix_v,pix_b))\n",
        "\n",
        "img3.save(\"stegano.bmp\")\n",
        "img3.show()\n",
        "print('chiffrement ok')"
      ],
      "id": "28064b6f",
      "execution_count": null,
      "outputs": [
        {
          "name": "stdout",
          "output_type": "stream",
          "text": [
            "chiffrement ok\n"
          ]
        }
      ]
    },
    {
      "cell_type": "code",
      "metadata": {
        "id": "c458207f",
        "outputId": "9be7d2a2-e33e-4694-dee0-39981f6cf235"
      },
      "source": [
        "imgSteg = Image.open(\"stegano.bmp\")\n",
        "imgSteg = imgSteg.convert('RGB')\n",
        "imgFinale = Image.new(mode=\"RGB\", size=(WIDTH, HEIGHT))\n",
        "\n",
        "for x in range(WIDTH):\n",
        "    for y in range(HEIGHT):\n",
        "        \n",
        "        pix_imgSteg = imgSteg.getpixel((x,y))\n",
        "        # décalage de 4 bits vers la gauche R,V,B pour l'image stegano\n",
        "        pix_rSteg = pix_imgSteg[0]<<4 \n",
        "        pix_vSteg = pix_imgSteg[1]<<4\n",
        "        pix_bSteg = pix_imgSteg[2]<<4\n",
        "        \n",
        "        # Ecrêter chaque composante de couleur sur 8 bits\n",
        "        pix_rFinal = pix_rSteg&255\n",
        "        pix_vFinal = pix_vSteg&255\n",
        "        pix_bFinal = pix_bSteg&255\n",
        "        \n",
        "        # création image déchiffrée\n",
        "        imgFinale.putpixel((x,y),(pix_rFinal,pix_vFinal,pix_bFinal))\n",
        "\n",
        "imgFinale.save(\"imgFinale.bmp\")\n",
        "imgFinale.show()\n",
        "print('déchiffrement ok')"
      ],
      "id": "c458207f",
      "execution_count": null,
      "outputs": [
        {
          "name": "stdout",
          "output_type": "stream",
          "text": [
            "déchiffrement ok\n"
          ]
        }
      ]
    },
    {
      "cell_type": "code",
      "metadata": {
        "id": "3ec069ee"
      },
      "source": [
        ""
      ],
      "id": "3ec069ee",
      "execution_count": null,
      "outputs": []
    },
    {
      "cell_type": "code",
      "metadata": {
        "id": "10726f3e"
      },
      "source": [
        ""
      ],
      "id": "10726f3e",
      "execution_count": null,
      "outputs": []
    },
    {
      "cell_type": "code",
      "metadata": {
        "id": "586e6999"
      },
      "source": [
        ""
      ],
      "id": "586e6999",
      "execution_count": null,
      "outputs": []
    }
  ]
}